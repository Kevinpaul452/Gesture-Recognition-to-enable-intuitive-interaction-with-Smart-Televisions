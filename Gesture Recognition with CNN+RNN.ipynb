{
 "cells": [
  {
   "cell_type": "markdown",
   "metadata": {},
   "source": [
    "# Gesture Recognition\n",
    "The primary goal of this study is to design, develop, and validate a comprehensive deep learning framework that enables smart televisions to detect and interpret five distinct hand gestures in real time, thereby orchestrating a paradigm shift in how users interact with their televisions. To provide a fun feature for the smart-TV that is capable of recognising five various gestures that are done by the user, which will assist users in controlling the TV without the usage of a remote"
   ]
  },
  {
   "cell_type": "code",
   "execution_count": 17,
   "metadata": {
    "scrolled": true
   },
   "outputs": [
    {
     "name": "stdout",
     "output_type": "stream",
     "text": [
      "Defaulting to user installation because normal site-packages is not writeable\n",
      "Requirement already satisfied: scikit-image in c:\\programdata\\anaconda3\\lib\\site-packages (0.20.0)\n",
      "Requirement already satisfied: numpy>=1.21.1 in c:\\programdata\\anaconda3\\lib\\site-packages (from scikit-image) (1.24.3)\n",
      "Requirement already satisfied: scipy>=1.8 in c:\\programdata\\anaconda3\\lib\\site-packages (from scikit-image) (1.10.1)\n",
      "Requirement already satisfied: networkx>=2.8 in c:\\programdata\\anaconda3\\lib\\site-packages (from scikit-image) (2.8.4)\n",
      "Requirement already satisfied: pillow>=9.0.1 in c:\\programdata\\anaconda3\\lib\\site-packages (from scikit-image) (9.4.0)\n",
      "Requirement already satisfied: imageio>=2.4.1 in c:\\programdata\\anaconda3\\lib\\site-packages (from scikit-image) (2.26.0)\n",
      "Requirement already satisfied: tifffile>=2019.7.26 in c:\\programdata\\anaconda3\\lib\\site-packages (from scikit-image) (2021.7.2)\n",
      "Requirement already satisfied: PyWavelets>=1.1.1 in c:\\programdata\\anaconda3\\lib\\site-packages (from scikit-image) (1.4.1)\n",
      "Requirement already satisfied: packaging>=20.0 in c:\\programdata\\anaconda3\\lib\\site-packages (from scikit-image) (23.0)\n",
      "Requirement already satisfied: lazy_loader>=0.1 in c:\\programdata\\anaconda3\\lib\\site-packages (from scikit-image) (0.2)\n"
     ]
    }
   ],
   "source": [
    "!pip install scikit-image"
   ]
  },
  {
   "cell_type": "code",
   "execution_count": 18,
   "metadata": {},
   "outputs": [
    {
     "name": "stdout",
     "output_type": "stream",
     "text": [
      "Defaulting to user installation because normal site-packages is not writeable\n",
      "Requirement already satisfied: imageio in c:\\programdata\\anaconda3\\lib\\site-packages (2.26.0)\n",
      "Requirement already satisfied: numpy in c:\\programdata\\anaconda3\\lib\\site-packages (from imageio) (1.24.3)\n",
      "Requirement already satisfied: pillow>=8.3.2 in c:\\programdata\\anaconda3\\lib\\site-packages (from imageio) (9.4.0)\n"
     ]
    }
   ],
   "source": [
    "!pip install imageio"
   ]
  },
  {
   "cell_type": "code",
   "execution_count": 41,
   "metadata": {},
   "outputs": [],
   "source": [
    "import imageio.v2 as imageio\n",
    "\n",
    "image = imageio.imread(r'C:\\Users\\kevin\\Desktop\\Project_data\\train\\WIN_20180907_15_35_09_Pro_Right Swipe_new\\WIN_20180907_15_35_09_Pro_00016.png')\n"
   ]
  },
  {
   "cell_type": "code",
   "execution_count": 42,
   "metadata": {},
   "outputs": [],
   "source": [
    "import numpy as np\n",
    "import os\n",
    "import datetime\n",
    "import os\n",
    "from skimage.transform import resize"
   ]
  },
  {
   "cell_type": "markdown",
   "metadata": {},
   "source": [
    "The random seed set so that the results don't vary drastically."
   ]
  },
  {
   "cell_type": "code",
   "execution_count": 43,
   "metadata": {},
   "outputs": [],
   "source": [
    "np.random.seed(30)\n",
    "import random as rn\n",
    "rn.seed(30)\n",
    "from keras import backend as K\n",
    "import tensorflow as tf\n",
    "tf.random.set_seed(30)"
   ]
  },
  {
   "cell_type": "markdown",
   "metadata": {},
   "source": [
    "The below code reads and shuffles the lines from 'train.csv' and 'val.csv' files, storing them in train_doc and val_doc respectively, and sets a batch size of 16 for training."
   ]
  },
  {
   "cell_type": "code",
   "execution_count": 44,
   "metadata": {},
   "outputs": [],
   "source": [
    "train_doc = np.random.permutation(open('C:/Users/kevin/Desktop/Project_data/train.csv').readlines())\n",
    "val_doc = np.random.permutation(open('C:/Users/kevin/Desktop/Project_data/val.csv').readlines())\n",
    "batch_size = 16"
   ]
  },
  {
   "cell_type": "markdown",
   "metadata": {},
   "source": [
    "## Generator\n",
    "This is one of the most crucial sections of the code. The generator's overall architecture has been provided. As there are images of two different dimensions, the generator will preprocess the images and produce a batch of video frames. It is necessary experiment with certain aspects of the generator function to achieve high precision."
   ]
  },
  {
   "cell_type": "code",
   "execution_count": 45,
   "metadata": {},
   "outputs": [],
   "source": [
    "def generator(source_path, folder_list, batch_size):\n",
    "    print( 'Source path = ', source_path, '; batch size =', batch_size)\n",
    "    img_idx = [0,2,4,6,8,10,12,14,16,18,20,22,24,26,28]\n",
    "    while True:\n",
    "        t = np.random.permutation(folder_list)\n",
    "        num_batches = int(len(t)/batch_size)\n",
    "        for batch in range(num_batches):\n",
    "            batch_data = np.zeros((batch_size,15,120,120,3))\n",
    "            batch_labels = np.zeros((batch_size,5))\n",
    "            for folder in range(batch_size):\n",
    "                imgs = os.listdir(source_path+'/'+ t[folder + (batch*batch_size)].split(';')[0])\n",
    "                for idx,item in enumerate(img_idx):\n",
    "                    image = imageio.imread(source_path+'/'+ t[folder + (batch*batch_size)].strip().split(';')[0]+'/'+imgs[item]).astype(np.float32)\n",
    "                    if image.shape[1] == 160:\n",
    "                        image = image[:,20:140,:].astype(np.float32)\n",
    "                    else:\n",
    "                        image = resize(image,(120,120)).astype(np.float32)\n",
    "                    \n",
    "                    batch_data[folder,idx,:,:,0] = image[:,:,0] - 104\n",
    "                    batch_data[folder,idx,:,:,1] = image[:,:,1] - 117\n",
    "                    batch_data[folder,idx,:,:,2] = image[:,:,2] - 123\n",
    "                    \n",
    "                batch_labels[folder, int(t[folder + (batch*batch_size)].strip().split(';')[2])] = 1\n",
    "            yield batch_data, batch_labels\n",
    "\n",
    "        if (len(t)%batch_size) != 0:\n",
    "            batch_data = np.zeros((len(t)%batch_size,15,120,120,3))\n",
    "            batch_labels = np.zeros((len(t)%batch_size,5))\n",
    "            for folder in range(len(t)%batch_size):\n",
    "                imgs = os.listdir(source_path+'/'+ t[folder + (num_batches*batch_size)].split(';')[0])\n",
    "                for idx,item in enumerate(img_idx):\n",
    "                    image = imageio.imread(source_path+'/'+ t[folder + (num_batches*batch_size)].strip().split(';')[0]+'/'+imgs[item]).astype(np.float32)\n",
    "                    if image.shape[1] == 160:\n",
    "                        image = image[:,20:140,:].astype(np.float32)\n",
    "                    else:\n",
    "                        image = resize(image,(120,120)).astype(np.float32)\n",
    "\n",
    "                    batch_data[folder,idx,:,:,0] = image[:,:,0] - 104\n",
    "                    batch_data[folder,idx,:,:,1] = image[:,:,1] - 117\n",
    "                    batch_data[folder,idx,:,:,2] = image[:,:,2] - 123\n",
    "\n",
    "                batch_labels[folder, int(t[folder + (num_batches*batch_size)].strip().split(';')[2])] = 1\n",
    "\n",
    "            yield batch_data, batch_labels"
   ]
  },
  {
   "cell_type": "code",
   "execution_count": 46,
   "metadata": {},
   "outputs": [
    {
     "name": "stdout",
     "output_type": "stream",
     "text": [
      "# training sequences = 663\n",
      "# validation sequences = 100\n",
      "# epochs = 70\n"
     ]
    }
   ],
   "source": [
    "curr_dt_time = datetime.datetime.now()\n",
    "train_path = 'C:/Users/kevin/Desktop/Project_data/train'\n",
    "val_path = 'C:/Users/kevin/Desktop/Project_data/val'\n",
    "num_train_sequences = len(train_doc)\n",
    "print('# training sequences =', num_train_sequences)\n",
    "num_val_sequences = len(val_doc)\n",
    "print('# validation sequences =', num_val_sequences)\n",
    "num_epochs = 70\n",
    "print ('# epochs =', num_epochs)"
   ]
  },
  {
   "cell_type": "markdown",
   "metadata": {},
   "source": [
    "## Model CNN+RNN\n",
    "\n",
    "Keras is used to construct a hybrid model that combines convolutional VGG16 layers with recurrent GRU layers. Initialised with 'imagenet' weights, VGG16 functions as an image feature extractor. The extracted features are then fed through a series of layers, including GRUs, in order to analyse temporal patterns in image sequences. The output is intended to categorise each sequence into one of five categories.\n"
   ]
  },
  {
   "cell_type": "code",
   "execution_count": 47,
   "metadata": {},
   "outputs": [],
   "source": [
    "from keras.models import Sequential, Model\n",
    "from keras.layers import Dense, GRU, Dropout, Flatten, TimeDistributed\n",
    "from keras.callbacks import ModelCheckpoint, ReduceLROnPlateau\n",
    "from keras import optimizers\n",
    "from keras.applications.vgg16 import VGG16\n",
    "    \n",
    "base_model = VGG16(include_top=False, weights='imagenet', input_shape=(120,120,3))\n",
    "x = base_model.output\n",
    "x = Flatten()(x)\n",
    "#x.add(Dropout(0.5))\n",
    "features = Dense(64, activation='relu')(x)\n",
    "conv_model = Model(inputs=base_model.input, outputs=features)\n",
    "    \n",
    "for layer in base_model.layers:\n",
    "    layer.trainable = False\n",
    "        \n",
    "model = Sequential()\n",
    "model.add(TimeDistributed(conv_model, input_shape=(15,120,120,3)))\n",
    "model.add(GRU(32, return_sequences=True))\n",
    "model.add(GRU(16))\n",
    "model.add(Dropout(0.5))\n",
    "model.add(Dense(8, activation='relu'))\n",
    "model.add(Dense(5, activation='softmax'))"
   ]
  },
  {
   "cell_type": "markdown",
   "metadata": {},
   "source": [
    "Now that you have written the model, the next step is to `compile` the model. When you print the `summary` of the model, you'll see the total number of parameters you have to train."
   ]
  },
  {
   "cell_type": "code",
   "execution_count": 48,
   "metadata": {},
   "outputs": [
    {
     "name": "stdout",
     "output_type": "stream",
     "text": [
      "Model: \"sequential_3\"\n",
      "_________________________________________________________________\n",
      " Layer (type)                Output Shape              Param #   \n",
      "=================================================================\n",
      " time_distributed_3 (TimeDi  (None, 15, 64)            15009664  \n",
      " stributed)                                                      \n",
      "                                                                 \n",
      " gru_6 (GRU)                 (None, 15, 32)            9408      \n",
      "                                                                 \n",
      " gru_7 (GRU)                 (None, 16)                2400      \n",
      "                                                                 \n",
      " dropout_3 (Dropout)         (None, 16)                0         \n",
      "                                                                 \n",
      " dense_10 (Dense)            (None, 8)                 136       \n",
      "                                                                 \n",
      " dense_11 (Dense)            (None, 5)                 45        \n",
      "                                                                 \n",
      "=================================================================\n",
      "Total params: 15021653 (57.30 MB)\n",
      "Trainable params: 306965 (1.17 MB)\n",
      "Non-trainable params: 14714688 (56.13 MB)\n",
      "_________________________________________________________________\n",
      "None\n"
     ]
    }
   ],
   "source": [
    "from tensorflow.keras import optimizers\n",
    "\n",
    "sgd = optimizers.SGD(learning_rate=0.001, momentum=0.7, nesterov=True)\n",
    "model.compile(optimizer=sgd, loss='categorical_crossentropy', metrics=['categorical_accuracy'])\n",
    "print(model.summary())\n"
   ]
  },
  {
   "cell_type": "markdown",
   "metadata": {},
   "source": [
    "By configuring these generators, the code facilitates the efficient and dynamic loading of training and validation data during the training process of the model."
   ]
  },
  {
   "cell_type": "code",
   "execution_count": 49,
   "metadata": {},
   "outputs": [],
   "source": [
    "train_generator = generator(train_path, train_doc, batch_size)\n",
    "val_generator = generator(val_path, val_doc, batch_size)"
   ]
  },
  {
   "cell_type": "code",
   "execution_count": 50,
   "metadata": {},
   "outputs": [
    {
     "name": "stdout",
     "output_type": "stream",
     "text": [
      "WARNING:tensorflow:`period` argument is deprecated. Please use `save_freq` to specify the frequency in number of batches seen.\n"
     ]
    },
    {
     "name": "stderr",
     "output_type": "stream",
     "text": [
      "WARNING:tensorflow:`period` argument is deprecated. Please use `save_freq` to specify the frequency in number of batches seen.\n"
     ]
    },
    {
     "name": "stdout",
     "output_type": "stream",
     "text": [
      "WARNING:tensorflow:`epsilon` argument is deprecated and will be removed, use `min_delta` instead.\n"
     ]
    },
    {
     "name": "stderr",
     "output_type": "stream",
     "text": [
      "WARNING:tensorflow:`epsilon` argument is deprecated and will be removed, use `min_delta` instead.\n"
     ]
    }
   ],
   "source": [
    "model_name = 'model_init_conv_lstm' + '_' + str(curr_dt_time).replace(' ','').replace(':','_') + '/'\n",
    "    \n",
    "if not os.path.exists(model_name):\n",
    "    os.mkdir(model_name)\n",
    "        \n",
    "filepath = model_name + 'model-{epoch:05d}-{loss:.5f}-{categorical_accuracy:.5f}-{val_loss:.5f}-{val_categorical_accuracy:.5f}.h5'\n",
    "\n",
    "checkpoint = ModelCheckpoint(filepath, monitor='val_loss', verbose=1, save_best_only=False, save_weights_only=False, mode='auto', period=1)\n",
    "\n",
    "LR = ReduceLROnPlateau(monitor='val_loss', factor=0.5, patience=2, verbose=1, mode='min', epsilon=0.0001, cooldown=0, min_lr=0.00001)\n",
    "callbacks_list = [checkpoint, LR]"
   ]
  },
  {
   "cell_type": "code",
   "execution_count": 53,
   "metadata": {},
   "outputs": [],
   "source": [
    "if (num_train_sequences%batch_size) == 0:\n",
    "    steps_per_epoch = int(num_train_sequences/batch_size)\n",
    "else:\n",
    "    steps_per_epoch = (num_train_sequences//batch_size) + 1\n",
    "\n",
    "if (num_val_sequences%batch_size) == 0:\n",
    "    validation_steps = int(num_val_sequences/batch_size)\n",
    "else:\n",
    "    validation_steps = (num_val_sequences//batch_size) + 1"
   ]
  },
  {
   "cell_type": "markdown",
   "metadata": {},
   "source": [
    "Trains the neural network model using data from train_generator, specifying the number of training steps per epoch, total epochs, and other training parameters, while also validating the model using val_generator after each epoch."
   ]
  },
  {
   "cell_type": "code",
   "execution_count": 54,
   "metadata": {},
   "outputs": [
    {
     "name": "stdout",
     "output_type": "stream",
     "text": [
      "Epoch 1/70\n",
      "42/42 [==============================] - ETA: 0s - loss: 1.6573 - categorical_accuracy: 0.2459 Source path =  C:/Users/kevin/Desktop/Project_data/val ; batch size = 16\n",
      "\n",
      "Epoch 1: saving model to model_init_conv_lstm_2023-08-2719_25_31.579951\\model-00001-1.65731-0.24585-1.59609-0.26000.h5\n",
      "42/42 [==============================] - 601s 14s/step - loss: 1.6573 - categorical_accuracy: 0.2459 - val_loss: 1.5961 - val_categorical_accuracy: 0.2600 - lr: 0.0010\n",
      "Epoch 2/70\n"
     ]
    },
    {
     "name": "stderr",
     "output_type": "stream",
     "text": [
      "C:\\Users\\kevin\\AppData\\Roaming\\Python\\Python311\\site-packages\\keras\\src\\engine\\training.py:3000: UserWarning: You are saving your model as an HDF5 file via `model.save()`. This file format is considered legacy. We recommend using instead the native Keras format, e.g. `model.save('my_model.keras')`.\n",
      "  saving_api.save_model(\n"
     ]
    },
    {
     "name": "stdout",
     "output_type": "stream",
     "text": [
      "42/42 [==============================] - ETA: 0s - loss: 1.5990 - categorical_accuracy: 0.2640 \n",
      "Epoch 2: saving model to model_init_conv_lstm_2023-08-2719_25_31.579951\\model-00002-1.59896-0.26395-1.56044-0.33000.h5\n",
      "42/42 [==============================] - 591s 14s/step - loss: 1.5990 - categorical_accuracy: 0.2640 - val_loss: 1.5604 - val_categorical_accuracy: 0.3300 - lr: 0.0010\n",
      "Epoch 3/70\n",
      "42/42 [==============================] - ETA: 0s - loss: 1.4488 - categorical_accuracy: 0.3454 \n",
      "Epoch 3: saving model to model_init_conv_lstm_2023-08-2719_25_31.579951\\model-00003-1.44883-0.34540-1.40339-0.36000.h5\n",
      "42/42 [==============================] - 601s 14s/step - loss: 1.4488 - categorical_accuracy: 0.3454 - val_loss: 1.4034 - val_categorical_accuracy: 0.3600 - lr: 0.0010\n",
      "Epoch 4/70\n",
      "42/42 [==============================] - ETA: 0s - loss: 1.3399 - categorical_accuracy: 0.4540 \n",
      "Epoch 4: saving model to model_init_conv_lstm_2023-08-2719_25_31.579951\\model-00004-1.33987-0.45400-1.32468-0.50000.h5\n",
      "42/42 [==============================] - 597s 14s/step - loss: 1.3399 - categorical_accuracy: 0.4540 - val_loss: 1.3247 - val_categorical_accuracy: 0.5000 - lr: 0.0010\n",
      "Epoch 5/70\n",
      "42/42 [==============================] - ETA: 0s - loss: 1.2716 - categorical_accuracy: 0.4947 \n",
      "Epoch 5: saving model to model_init_conv_lstm_2023-08-2719_25_31.579951\\model-00005-1.27161-0.49472-1.30264-0.53000.h5\n",
      "42/42 [==============================] - 590s 14s/step - loss: 1.2716 - categorical_accuracy: 0.4947 - val_loss: 1.3026 - val_categorical_accuracy: 0.5300 - lr: 0.0010\n",
      "Epoch 6/70\n",
      "42/42 [==============================] - ETA: 0s - loss: 1.2073 - categorical_accuracy: 0.5264 \n",
      "Epoch 6: saving model to model_init_conv_lstm_2023-08-2719_25_31.579951\\model-00006-1.20731-0.52640-1.21524-0.59000.h5\n",
      "42/42 [==============================] - 597s 14s/step - loss: 1.2073 - categorical_accuracy: 0.5264 - val_loss: 1.2152 - val_categorical_accuracy: 0.5900 - lr: 0.0010\n",
      "Epoch 7/70\n",
      "42/42 [==============================] - ETA: 0s - loss: 1.1601 - categorical_accuracy: 0.5505 \n",
      "Epoch 7: saving model to model_init_conv_lstm_2023-08-2719_25_31.579951\\model-00007-1.16015-0.55053-1.21204-0.51000.h5\n",
      "42/42 [==============================] - 592s 14s/step - loss: 1.1601 - categorical_accuracy: 0.5505 - val_loss: 1.2120 - val_categorical_accuracy: 0.5100 - lr: 0.0010\n",
      "Epoch 8/70\n",
      "42/42 [==============================] - ETA: 0s - loss: 1.0671 - categorical_accuracy: 0.5973 \n",
      "Epoch 8: saving model to model_init_conv_lstm_2023-08-2719_25_31.579951\\model-00008-1.06712-0.59729-1.08943-0.57000.h5\n",
      "42/42 [==============================] - 594s 14s/step - loss: 1.0671 - categorical_accuracy: 0.5973 - val_loss: 1.0894 - val_categorical_accuracy: 0.5700 - lr: 0.0010\n",
      "Epoch 9/70\n",
      "42/42 [==============================] - ETA: 0s - loss: 1.0455 - categorical_accuracy: 0.6139 \n",
      "Epoch 9: saving model to model_init_conv_lstm_2023-08-2719_25_31.579951\\model-00009-1.04548-0.61388-1.11670-0.58000.h5\n",
      "42/42 [==============================] - 597s 14s/step - loss: 1.0455 - categorical_accuracy: 0.6139 - val_loss: 1.1167 - val_categorical_accuracy: 0.5800 - lr: 0.0010\n",
      "Epoch 10/70\n",
      "42/42 [==============================] - ETA: 0s - loss: 0.9526 - categorical_accuracy: 0.6682 \n",
      "Epoch 10: saving model to model_init_conv_lstm_2023-08-2719_25_31.579951\\model-00010-0.95261-0.66817-1.08274-0.59000.h5\n",
      "42/42 [==============================] - 595s 14s/step - loss: 0.9526 - categorical_accuracy: 0.6682 - val_loss: 1.0827 - val_categorical_accuracy: 0.5900 - lr: 0.0010\n",
      "Epoch 11/70\n",
      "42/42 [==============================] - ETA: 0s - loss: 0.9779 - categorical_accuracy: 0.6290 \n",
      "Epoch 11: saving model to model_init_conv_lstm_2023-08-2719_25_31.579951\\model-00011-0.97795-0.62896-1.10025-0.60000.h5\n",
      "42/42 [==============================] - 596s 14s/step - loss: 0.9779 - categorical_accuracy: 0.6290 - val_loss: 1.1003 - val_categorical_accuracy: 0.6000 - lr: 0.0010\n",
      "Epoch 12/70\n",
      "42/42 [==============================] - ETA: 0s - loss: 0.8548 - categorical_accuracy: 0.7014 \n",
      "Epoch 12: saving model to model_init_conv_lstm_2023-08-2719_25_31.579951\\model-00012-0.85478-0.70136-1.08495-0.55000.h5\n",
      "\n",
      "Epoch 12: ReduceLROnPlateau reducing learning rate to 0.0005000000237487257.\n",
      "42/42 [==============================] - 594s 14s/step - loss: 0.8548 - categorical_accuracy: 0.7014 - val_loss: 1.0850 - val_categorical_accuracy: 0.5500 - lr: 0.0010\n",
      "Epoch 13/70\n",
      "42/42 [==============================] - ETA: 0s - loss: 0.8560 - categorical_accuracy: 0.7195 \n",
      "Epoch 13: saving model to model_init_conv_lstm_2023-08-2719_25_31.579951\\model-00013-0.85603-0.71946-1.01566-0.59000.h5\n",
      "42/42 [==============================] - 594s 14s/step - loss: 0.8560 - categorical_accuracy: 0.7195 - val_loss: 1.0157 - val_categorical_accuracy: 0.5900 - lr: 5.0000e-04\n",
      "Epoch 14/70\n",
      "42/42 [==============================] - ETA: 0s - loss: 0.8208 - categorical_accuracy: 0.7179 \n",
      "Epoch 14: saving model to model_init_conv_lstm_2023-08-2719_25_31.579951\\model-00014-0.82081-0.71795-0.96444-0.62000.h5\n",
      "42/42 [==============================] - 597s 14s/step - loss: 0.8208 - categorical_accuracy: 0.7179 - val_loss: 0.9644 - val_categorical_accuracy: 0.6200 - lr: 5.0000e-04\n",
      "Epoch 15/70\n",
      "42/42 [==============================] - ETA: 0s - loss: 0.7981 - categorical_accuracy: 0.7376 \n",
      "Epoch 15: saving model to model_init_conv_lstm_2023-08-2719_25_31.579951\\model-00015-0.79811-0.73756-0.97823-0.62000.h5\n",
      "42/42 [==============================] - 595s 14s/step - loss: 0.7981 - categorical_accuracy: 0.7376 - val_loss: 0.9782 - val_categorical_accuracy: 0.6200 - lr: 5.0000e-04\n",
      "Epoch 16/70\n",
      "42/42 [==============================] - ETA: 0s - loss: 0.7714 - categorical_accuracy: 0.7511 \n",
      "Epoch 16: saving model to model_init_conv_lstm_2023-08-2719_25_31.579951\\model-00016-0.77142-0.75113-0.95816-0.60000.h5\n",
      "42/42 [==============================] - 598s 14s/step - loss: 0.7714 - categorical_accuracy: 0.7511 - val_loss: 0.9582 - val_categorical_accuracy: 0.6000 - lr: 5.0000e-04\n",
      "Epoch 17/70\n",
      "42/42 [==============================] - ETA: 0s - loss: 0.7434 - categorical_accuracy: 0.7662 \n",
      "Epoch 17: saving model to model_init_conv_lstm_2023-08-2719_25_31.579951\\model-00017-0.74341-0.76621-0.97870-0.58000.h5\n",
      "42/42 [==============================] - 601s 14s/step - loss: 0.7434 - categorical_accuracy: 0.7662 - val_loss: 0.9787 - val_categorical_accuracy: 0.5800 - lr: 5.0000e-04\n",
      "Epoch 18/70\n",
      "42/42 [==============================] - ETA: 0s - loss: 0.7273 - categorical_accuracy: 0.7858 \n",
      "Epoch 18: saving model to model_init_conv_lstm_2023-08-2719_25_31.579951\\model-00018-0.72729-0.78582-0.92986-0.61000.h5\n",
      "42/42 [==============================] - 601s 14s/step - loss: 0.7273 - categorical_accuracy: 0.7858 - val_loss: 0.9299 - val_categorical_accuracy: 0.6100 - lr: 5.0000e-04\n",
      "Epoch 19/70\n",
      "42/42 [==============================] - ETA: 0s - loss: 0.7107 - categorical_accuracy: 0.7873 \n",
      "Epoch 19: saving model to model_init_conv_lstm_2023-08-2719_25_31.579951\\model-00019-0.71067-0.78733-0.97918-0.60000.h5\n",
      "42/42 [==============================] - 598s 14s/step - loss: 0.7107 - categorical_accuracy: 0.7873 - val_loss: 0.9792 - val_categorical_accuracy: 0.6000 - lr: 5.0000e-04\n",
      "Epoch 20/70\n",
      "42/42 [==============================] - ETA: 0s - loss: 0.6949 - categorical_accuracy: 0.7738 \n",
      "Epoch 20: saving model to model_init_conv_lstm_2023-08-2719_25_31.579951\\model-00020-0.69490-0.77376-0.96146-0.57000.h5\n",
      "\n",
      "Epoch 20: ReduceLROnPlateau reducing learning rate to 0.0002500000118743628.\n",
      "42/42 [==============================] - 599s 14s/step - loss: 0.6949 - categorical_accuracy: 0.7738 - val_loss: 0.9615 - val_categorical_accuracy: 0.5700 - lr: 5.0000e-04\n",
      "Epoch 21/70\n",
      "42/42 [==============================] - ETA: 0s - loss: 0.6815 - categorical_accuracy: 0.8009 \n",
      "Epoch 21: saving model to model_init_conv_lstm_2023-08-2719_25_31.579951\\model-00021-0.68151-0.80090-0.96072-0.59000.h5\n",
      "42/42 [==============================] - 599s 14s/step - loss: 0.6815 - categorical_accuracy: 0.8009 - val_loss: 0.9607 - val_categorical_accuracy: 0.5900 - lr: 2.5000e-04\n",
      "Epoch 22/70\n",
      "42/42 [==============================] - ETA: 0s - loss: 0.6911 - categorical_accuracy: 0.8024 \n",
      "Epoch 22: saving model to model_init_conv_lstm_2023-08-2719_25_31.579951\\model-00022-0.69112-0.80241-0.93576-0.62000.h5\n",
      "\n",
      "Epoch 22: ReduceLROnPlateau reducing learning rate to 0.0001250000059371814.\n",
      "42/42 [==============================] - 593s 14s/step - loss: 0.6911 - categorical_accuracy: 0.8024 - val_loss: 0.9358 - val_categorical_accuracy: 0.6200 - lr: 2.5000e-04\n",
      "Epoch 23/70\n",
      "42/42 [==============================] - ETA: 0s - loss: 0.6351 - categorical_accuracy: 0.8250 \n",
      "Epoch 23: saving model to model_init_conv_lstm_2023-08-2719_25_31.579951\\model-00023-0.63506-0.82504-0.85172-0.68000.h5\n",
      "42/42 [==============================] - 597s 14s/step - loss: 0.6351 - categorical_accuracy: 0.8250 - val_loss: 0.8517 - val_categorical_accuracy: 0.6800 - lr: 1.2500e-04\n",
      "Epoch 24/70\n",
      "42/42 [==============================] - ETA: 0s - loss: 0.6457 - categorical_accuracy: 0.8311 \n",
      "Epoch 24: saving model to model_init_conv_lstm_2023-08-2719_25_31.579951\\model-00024-0.64566-0.83107-0.96329-0.62000.h5\n",
      "42/42 [==============================] - 677s 16s/step - loss: 0.6457 - categorical_accuracy: 0.8311 - val_loss: 0.9633 - val_categorical_accuracy: 0.6200 - lr: 1.2500e-04\n",
      "Epoch 25/70\n",
      "42/42 [==============================] - ETA: 0s - loss: 0.6653 - categorical_accuracy: 0.8024 \n",
      "Epoch 25: saving model to model_init_conv_lstm_2023-08-2719_25_31.579951\\model-00025-0.66532-0.80241-0.92915-0.65000.h5\n",
      "\n",
      "Epoch 25: ReduceLROnPlateau reducing learning rate to 6.25000029685907e-05.\n",
      "42/42 [==============================] - 598s 14s/step - loss: 0.6653 - categorical_accuracy: 0.8024 - val_loss: 0.9292 - val_categorical_accuracy: 0.6500 - lr: 1.2500e-04\n",
      "Epoch 26/70\n",
      "42/42 [==============================] - ETA: 0s - loss: 0.6202 - categorical_accuracy: 0.8582 \n",
      "Epoch 26: saving model to model_init_conv_lstm_2023-08-2719_25_31.579951\\model-00026-0.62019-0.85822-0.96549-0.61000.h5\n",
      "42/42 [==============================] - 597s 14s/step - loss: 0.6202 - categorical_accuracy: 0.8582 - val_loss: 0.9655 - val_categorical_accuracy: 0.6100 - lr: 6.2500e-05\n",
      "Epoch 27/70\n",
      "42/42 [==============================] - ETA: 0s - loss: 0.6390 - categorical_accuracy: 0.8416 \n",
      "Epoch 27: saving model to model_init_conv_lstm_2023-08-2719_25_31.579951\\model-00027-0.63900-0.84163-0.90155-0.64000.h5\n",
      "\n",
      "Epoch 27: ReduceLROnPlateau reducing learning rate to 3.125000148429535e-05.\n",
      "42/42 [==============================] - 601s 14s/step - loss: 0.6390 - categorical_accuracy: 0.8416 - val_loss: 0.9015 - val_categorical_accuracy: 0.6400 - lr: 6.2500e-05\n",
      "Epoch 28/70\n",
      "42/42 [==============================] - ETA: 0s - loss: 0.6733 - categorical_accuracy: 0.8039 \n",
      "Epoch 28: saving model to model_init_conv_lstm_2023-08-2719_25_31.579951\\model-00028-0.67325-0.80392-0.90807-0.65000.h5\n",
      "42/42 [==============================] - 596s 14s/step - loss: 0.6733 - categorical_accuracy: 0.8039 - val_loss: 0.9081 - val_categorical_accuracy: 0.6500 - lr: 3.1250e-05\n",
      "Epoch 29/70\n",
      "42/42 [==============================] - ETA: 0s - loss: 0.6399 - categorical_accuracy: 0.8326 \n",
      "Epoch 29: saving model to model_init_conv_lstm_2023-08-2719_25_31.579951\\model-00029-0.63991-0.83258-0.91414-0.63000.h5\n",
      "\n",
      "Epoch 29: ReduceLROnPlateau reducing learning rate to 1.5625000742147677e-05.\n",
      "42/42 [==============================] - 598s 14s/step - loss: 0.6399 - categorical_accuracy: 0.8326 - val_loss: 0.9141 - val_categorical_accuracy: 0.6300 - lr: 3.1250e-05\n",
      "Epoch 30/70\n",
      "42/42 [==============================] - ETA: 0s - loss: 0.6385 - categorical_accuracy: 0.8250 \n",
      "Epoch 30: saving model to model_init_conv_lstm_2023-08-2719_25_31.579951\\model-00030-0.63853-0.82504-0.81468-0.68000.h5\n",
      "42/42 [==============================] - 601s 14s/step - loss: 0.6385 - categorical_accuracy: 0.8250 - val_loss: 0.8147 - val_categorical_accuracy: 0.6800 - lr: 1.5625e-05\n",
      "Epoch 31/70\n",
      "42/42 [==============================] - ETA: 0s - loss: 0.6518 - categorical_accuracy: 0.8115 \n",
      "Epoch 31: saving model to model_init_conv_lstm_2023-08-2719_25_31.579951\\model-00031-0.65180-0.81146-0.91688-0.66000.h5\n",
      "42/42 [==============================] - 595s 14s/step - loss: 0.6518 - categorical_accuracy: 0.8115 - val_loss: 0.9169 - val_categorical_accuracy: 0.6600 - lr: 1.5625e-05\n",
      "Epoch 32/70\n",
      "42/42 [==============================] - ETA: 0s - loss: 0.6273 - categorical_accuracy: 0.8311 \n",
      "Epoch 32: saving model to model_init_conv_lstm_2023-08-2719_25_31.579951\\model-00032-0.62735-0.83107-0.92337-0.63000.h5\n",
      "\n",
      "Epoch 32: ReduceLROnPlateau reducing learning rate to 1e-05.\n",
      "42/42 [==============================] - 596s 14s/step - loss: 0.6273 - categorical_accuracy: 0.8311 - val_loss: 0.9234 - val_categorical_accuracy: 0.6300 - lr: 1.5625e-05\n",
      "Epoch 33/70\n",
      "42/42 [==============================] - ETA: 0s - loss: 0.6448 - categorical_accuracy: 0.8492 \n",
      "Epoch 33: saving model to model_init_conv_lstm_2023-08-2719_25_31.579951\\model-00033-0.64480-0.84917-0.93473-0.65000.h5\n",
      "42/42 [==============================] - 600s 14s/step - loss: 0.6448 - categorical_accuracy: 0.8492 - val_loss: 0.9347 - val_categorical_accuracy: 0.6500 - lr: 1.0000e-05\n",
      "Epoch 34/70\n",
      "42/42 [==============================] - ETA: 0s - loss: 0.6258 - categorical_accuracy: 0.8326 \n",
      "Epoch 34: saving model to model_init_conv_lstm_2023-08-2719_25_31.579951\\model-00034-0.62578-0.83258-0.91451-0.64000.h5\n",
      "42/42 [==============================] - 598s 14s/step - loss: 0.6258 - categorical_accuracy: 0.8326 - val_loss: 0.9145 - val_categorical_accuracy: 0.6400 - lr: 1.0000e-05\n",
      "Epoch 35/70\n",
      "42/42 [==============================] - ETA: 0s - loss: 0.6292 - categorical_accuracy: 0.8462 \n",
      "Epoch 35: saving model to model_init_conv_lstm_2023-08-2719_25_31.579951\\model-00035-0.62921-0.84615-0.91307-0.63000.h5\n",
      "42/42 [==============================] - 596s 14s/step - loss: 0.6292 - categorical_accuracy: 0.8462 - val_loss: 0.9131 - val_categorical_accuracy: 0.6300 - lr: 1.0000e-05\n",
      "Epoch 36/70\n",
      "42/42 [==============================] - ETA: 0s - loss: 0.6268 - categorical_accuracy: 0.8416 \n",
      "Epoch 36: saving model to model_init_conv_lstm_2023-08-2719_25_31.579951\\model-00036-0.62677-0.84163-0.93148-0.60000.h5\n",
      "42/42 [==============================] - 597s 14s/step - loss: 0.6268 - categorical_accuracy: 0.8416 - val_loss: 0.9315 - val_categorical_accuracy: 0.6000 - lr: 1.0000e-05\n",
      "Epoch 37/70\n",
      "42/42 [==============================] - ETA: 0s - loss: 0.6504 - categorical_accuracy: 0.8175 \n",
      "Epoch 37: saving model to model_init_conv_lstm_2023-08-2719_25_31.579951\\model-00037-0.65045-0.81750-0.91238-0.64000.h5\n",
      "42/42 [==============================] - 597s 14s/step - loss: 0.6504 - categorical_accuracy: 0.8175 - val_loss: 0.9124 - val_categorical_accuracy: 0.6400 - lr: 1.0000e-05\n",
      "Epoch 38/70\n",
      "42/42 [==============================] - ETA: 0s - loss: 0.6306 - categorical_accuracy: 0.8220 \n",
      "Epoch 38: saving model to model_init_conv_lstm_2023-08-2719_25_31.579951\\model-00038-0.63062-0.82202-0.88718-0.64000.h5\n",
      "42/42 [==============================] - 595s 14s/step - loss: 0.6306 - categorical_accuracy: 0.8220 - val_loss: 0.8872 - val_categorical_accuracy: 0.6400 - lr: 1.0000e-05\n",
      "Epoch 39/70\n",
      "42/42 [==============================] - ETA: 0s - loss: 0.6172 - categorical_accuracy: 0.8401 \n",
      "Epoch 39: saving model to model_init_conv_lstm_2023-08-2719_25_31.579951\\model-00039-0.61721-0.84012-0.88084-0.62000.h5\n",
      "42/42 [==============================] - 595s 14s/step - loss: 0.6172 - categorical_accuracy: 0.8401 - val_loss: 0.8808 - val_categorical_accuracy: 0.6200 - lr: 1.0000e-05\n",
      "Epoch 40/70\n",
      "42/42 [==============================] - ETA: 0s - loss: 0.6273 - categorical_accuracy: 0.8115 \n",
      "Epoch 40: saving model to model_init_conv_lstm_2023-08-2719_25_31.579951\\model-00040-0.62728-0.81146-0.91971-0.64000.h5\n",
      "42/42 [==============================] - 594s 14s/step - loss: 0.6273 - categorical_accuracy: 0.8115 - val_loss: 0.9197 - val_categorical_accuracy: 0.6400 - lr: 1.0000e-05\n",
      "Epoch 41/70\n",
      "42/42 [==============================] - ETA: 0s - loss: 0.6305 - categorical_accuracy: 0.8281 \n",
      "Epoch 41: saving model to model_init_conv_lstm_2023-08-2719_25_31.579951\\model-00041-0.63047-0.82805-0.91003-0.62000.h5\n",
      "42/42 [==============================] - 598s 14s/step - loss: 0.6305 - categorical_accuracy: 0.8281 - val_loss: 0.9100 - val_categorical_accuracy: 0.6200 - lr: 1.0000e-05\n",
      "Epoch 42/70\n",
      "42/42 [==============================] - ETA: 0s - loss: 0.6356 - categorical_accuracy: 0.8401 \n",
      "Epoch 42: saving model to model_init_conv_lstm_2023-08-2719_25_31.579951\\model-00042-0.63565-0.84012-0.87611-0.66000.h5\n",
      "42/42 [==============================] - 597s 14s/step - loss: 0.6356 - categorical_accuracy: 0.8401 - val_loss: 0.8761 - val_categorical_accuracy: 0.6600 - lr: 1.0000e-05\n",
      "Epoch 43/70\n",
      "42/42 [==============================] - ETA: 0s - loss: 0.6293 - categorical_accuracy: 0.8386 \n",
      "Epoch 43: saving model to model_init_conv_lstm_2023-08-2719_25_31.579951\\model-00043-0.62927-0.83861-0.92700-0.64000.h5\n",
      "42/42 [==============================] - 596s 14s/step - loss: 0.6293 - categorical_accuracy: 0.8386 - val_loss: 0.9270 - val_categorical_accuracy: 0.6400 - lr: 1.0000e-05\n",
      "Epoch 44/70\n",
      "42/42 [==============================] - ETA: 0s - loss: 0.6215 - categorical_accuracy: 0.8356 \n",
      "Epoch 44: saving model to model_init_conv_lstm_2023-08-2719_25_31.579951\\model-00044-0.62150-0.83560-0.89189-0.65000.h5\n",
      "42/42 [==============================] - 597s 14s/step - loss: 0.6215 - categorical_accuracy: 0.8356 - val_loss: 0.8919 - val_categorical_accuracy: 0.6500 - lr: 1.0000e-05\n",
      "Epoch 45/70\n",
      "42/42 [==============================] - ETA: 0s - loss: 0.6584 - categorical_accuracy: 0.8160 \n",
      "Epoch 45: saving model to model_init_conv_lstm_2023-08-2719_25_31.579951\\model-00045-0.65837-0.81599-0.88495-0.66000.h5\n",
      "42/42 [==============================] - 599s 14s/step - loss: 0.6584 - categorical_accuracy: 0.8160 - val_loss: 0.8850 - val_categorical_accuracy: 0.6600 - lr: 1.0000e-05\n",
      "Epoch 46/70\n",
      "42/42 [==============================] - ETA: 0s - loss: 0.6198 - categorical_accuracy: 0.8477 \n",
      "Epoch 46: saving model to model_init_conv_lstm_2023-08-2719_25_31.579951\\model-00046-0.61975-0.84766-0.91529-0.63000.h5\n",
      "42/42 [==============================] - 597s 14s/step - loss: 0.6198 - categorical_accuracy: 0.8477 - val_loss: 0.9153 - val_categorical_accuracy: 0.6300 - lr: 1.0000e-05\n",
      "Epoch 47/70\n",
      "42/42 [==============================] - ETA: 0s - loss: 0.6258 - categorical_accuracy: 0.8100 \n",
      "Epoch 47: saving model to model_init_conv_lstm_2023-08-2719_25_31.579951\\model-00047-0.62583-0.80995-0.97609-0.59000.h5\n",
      "42/42 [==============================] - 594s 14s/step - loss: 0.6258 - categorical_accuracy: 0.8100 - val_loss: 0.9761 - val_categorical_accuracy: 0.5900 - lr: 1.0000e-05\n",
      "Epoch 48/70\n",
      "42/42 [==============================] - ETA: 0s - loss: 0.6102 - categorical_accuracy: 0.8537 \n",
      "Epoch 48: saving model to model_init_conv_lstm_2023-08-2719_25_31.579951\\model-00048-0.61017-0.85370-0.90796-0.63000.h5\n",
      "42/42 [==============================] - 598s 14s/step - loss: 0.6102 - categorical_accuracy: 0.8537 - val_loss: 0.9080 - val_categorical_accuracy: 0.6300 - lr: 1.0000e-05\n",
      "Epoch 49/70\n",
      "42/42 [==============================] - ETA: 0s - loss: 0.6631 - categorical_accuracy: 0.8220 \n",
      "Epoch 49: saving model to model_init_conv_lstm_2023-08-2719_25_31.579951\\model-00049-0.66311-0.82202-0.90899-0.65000.h5\n",
      "42/42 [==============================] - 597s 14s/step - loss: 0.6631 - categorical_accuracy: 0.8220 - val_loss: 0.9090 - val_categorical_accuracy: 0.6500 - lr: 1.0000e-05\n",
      "Epoch 50/70\n",
      "42/42 [==============================] - ETA: 0s - loss: 0.6237 - categorical_accuracy: 0.8341 \n",
      "Epoch 50: saving model to model_init_conv_lstm_2023-08-2719_25_31.579951\\model-00050-0.62366-0.83409-0.88562-0.69000.h5\n",
      "42/42 [==============================] - 595s 14s/step - loss: 0.6237 - categorical_accuracy: 0.8341 - val_loss: 0.8856 - val_categorical_accuracy: 0.6900 - lr: 1.0000e-05\n",
      "Epoch 51/70\n",
      "42/42 [==============================] - ETA: 0s - loss: 0.6243 - categorical_accuracy: 0.8235 \n",
      "Epoch 51: saving model to model_init_conv_lstm_2023-08-2719_25_31.579951\\model-00051-0.62427-0.82353-0.97800-0.60000.h5\n",
      "42/42 [==============================] - 595s 14s/step - loss: 0.6243 - categorical_accuracy: 0.8235 - val_loss: 0.9780 - val_categorical_accuracy: 0.6000 - lr: 1.0000e-05\n",
      "Epoch 52/70\n",
      "42/42 [==============================] - ETA: 0s - loss: 0.6464 - categorical_accuracy: 0.8371 \n",
      "Epoch 52: saving model to model_init_conv_lstm_2023-08-2719_25_31.579951\\model-00052-0.64643-0.83710-0.89124-0.67000.h5\n",
      "42/42 [==============================] - 597s 14s/step - loss: 0.6464 - categorical_accuracy: 0.8371 - val_loss: 0.8912 - val_categorical_accuracy: 0.6700 - lr: 1.0000e-05\n",
      "Epoch 53/70\n",
      "42/42 [==============================] - ETA: 0s - loss: 0.6144 - categorical_accuracy: 0.8341 \n",
      "Epoch 53: saving model to model_init_conv_lstm_2023-08-2719_25_31.579951\\model-00053-0.61435-0.83409-0.93369-0.65000.h5\n",
      "42/42 [==============================] - 594s 14s/step - loss: 0.6144 - categorical_accuracy: 0.8341 - val_loss: 0.9337 - val_categorical_accuracy: 0.6500 - lr: 1.0000e-05\n",
      "Epoch 54/70\n",
      "42/42 [==============================] - ETA: 0s - loss: 0.6289 - categorical_accuracy: 0.8296 \n",
      "Epoch 54: saving model to model_init_conv_lstm_2023-08-2719_25_31.579951\\model-00054-0.62890-0.82956-0.89912-0.64000.h5\n",
      "42/42 [==============================] - 599s 14s/step - loss: 0.6289 - categorical_accuracy: 0.8296 - val_loss: 0.8991 - val_categorical_accuracy: 0.6400 - lr: 1.0000e-05\n",
      "Epoch 55/70\n",
      "42/42 [==============================] - ETA: 0s - loss: 0.6304 - categorical_accuracy: 0.8250 \n",
      "Epoch 55: saving model to model_init_conv_lstm_2023-08-2719_25_31.579951\\model-00055-0.63035-0.82504-0.91020-0.64000.h5\n",
      "42/42 [==============================] - 598s 14s/step - loss: 0.6304 - categorical_accuracy: 0.8250 - val_loss: 0.9102 - val_categorical_accuracy: 0.6400 - lr: 1.0000e-05\n",
      "Epoch 56/70\n",
      "42/42 [==============================] - ETA: 0s - loss: 0.6454 - categorical_accuracy: 0.8235 \n",
      "Epoch 56: saving model to model_init_conv_lstm_2023-08-2719_25_31.579951\\model-00056-0.64544-0.82353-0.96931-0.60000.h5\n",
      "42/42 [==============================] - 596s 14s/step - loss: 0.6454 - categorical_accuracy: 0.8235 - val_loss: 0.9693 - val_categorical_accuracy: 0.6000 - lr: 1.0000e-05\n",
      "Epoch 57/70\n",
      "42/42 [==============================] - ETA: 0s - loss: 0.6462 - categorical_accuracy: 0.8145 \n",
      "Epoch 57: saving model to model_init_conv_lstm_2023-08-2719_25_31.579951\\model-00057-0.64616-0.81448-0.91602-0.65000.h5\n",
      "42/42 [==============================] - 597s 14s/step - loss: 0.6462 - categorical_accuracy: 0.8145 - val_loss: 0.9160 - val_categorical_accuracy: 0.6500 - lr: 1.0000e-05\n",
      "Epoch 58/70\n",
      "42/42 [==============================] - ETA: 0s - loss: 0.6204 - categorical_accuracy: 0.8220 \n",
      "Epoch 58: saving model to model_init_conv_lstm_2023-08-2719_25_31.579951\\model-00058-0.62042-0.82202-0.91723-0.63000.h5\n",
      "42/42 [==============================] - 596s 14s/step - loss: 0.6204 - categorical_accuracy: 0.8220 - val_loss: 0.9172 - val_categorical_accuracy: 0.6300 - lr: 1.0000e-05\n",
      "Epoch 59/70\n",
      "42/42 [==============================] - ETA: 0s - loss: 0.6275 - categorical_accuracy: 0.8235 \n",
      "Epoch 59: saving model to model_init_conv_lstm_2023-08-2719_25_31.579951\\model-00059-0.62752-0.82353-0.91371-0.67000.h5\n",
      "42/42 [==============================] - 595s 14s/step - loss: 0.6275 - categorical_accuracy: 0.8235 - val_loss: 0.9137 - val_categorical_accuracy: 0.6700 - lr: 1.0000e-05\n",
      "Epoch 60/70\n",
      "42/42 [==============================] - ETA: 0s - loss: 0.6262 - categorical_accuracy: 0.8371 \n",
      "Epoch 60: saving model to model_init_conv_lstm_2023-08-2719_25_31.579951\\model-00060-0.62621-0.83710-0.93507-0.66000.h5\n",
      "42/42 [==============================] - 599s 14s/step - loss: 0.6262 - categorical_accuracy: 0.8371 - val_loss: 0.9351 - val_categorical_accuracy: 0.6600 - lr: 1.0000e-05\n",
      "Epoch 61/70\n",
      "42/42 [==============================] - ETA: 0s - loss: 0.6186 - categorical_accuracy: 0.8446 \n",
      "Epoch 61: saving model to model_init_conv_lstm_2023-08-2719_25_31.579951\\model-00061-0.61856-0.84465-0.90131-0.66000.h5\n",
      "42/42 [==============================] - 597s 14s/step - loss: 0.6186 - categorical_accuracy: 0.8446 - val_loss: 0.9013 - val_categorical_accuracy: 0.6600 - lr: 1.0000e-05\n",
      "Epoch 62/70\n",
      "42/42 [==============================] - ETA: 0s - loss: 0.6354 - categorical_accuracy: 0.8311 \n",
      "Epoch 62: saving model to model_init_conv_lstm_2023-08-2719_25_31.579951\\model-00062-0.63537-0.83107-0.87578-0.70000.h5\n",
      "42/42 [==============================] - 597s 14s/step - loss: 0.6354 - categorical_accuracy: 0.8311 - val_loss: 0.8758 - val_categorical_accuracy: 0.7000 - lr: 1.0000e-05\n",
      "Epoch 63/70\n",
      "42/42 [==============================] - ETA: 0s - loss: 0.6294 - categorical_accuracy: 0.8160 \n",
      "Epoch 63: saving model to model_init_conv_lstm_2023-08-2719_25_31.579951\\model-00063-0.62943-0.81599-0.93816-0.62000.h5\n",
      "42/42 [==============================] - 598s 14s/step - loss: 0.6294 - categorical_accuracy: 0.8160 - val_loss: 0.9382 - val_categorical_accuracy: 0.6200 - lr: 1.0000e-05\n",
      "Epoch 64/70\n",
      "42/42 [==============================] - ETA: 0s - loss: 0.6298 - categorical_accuracy: 0.8281 \n",
      "Epoch 64: saving model to model_init_conv_lstm_2023-08-2719_25_31.579951\\model-00064-0.62984-0.82805-0.91655-0.65000.h5\n",
      "42/42 [==============================] - 591s 14s/step - loss: 0.6298 - categorical_accuracy: 0.8281 - val_loss: 0.9166 - val_categorical_accuracy: 0.6500 - lr: 1.0000e-05\n",
      "Epoch 65/70\n",
      "42/42 [==============================] - ETA: 0s - loss: 0.6198 - categorical_accuracy: 0.8341 \n",
      "Epoch 65: saving model to model_init_conv_lstm_2023-08-2719_25_31.579951\\model-00065-0.61979-0.83409-0.85171-0.68000.h5\n",
      "42/42 [==============================] - 594s 14s/step - loss: 0.6198 - categorical_accuracy: 0.8341 - val_loss: 0.8517 - val_categorical_accuracy: 0.6800 - lr: 1.0000e-05\n",
      "Epoch 66/70\n",
      "42/42 [==============================] - ETA: 0s - loss: 0.6399 - categorical_accuracy: 0.8054 \n",
      "Epoch 66: saving model to model_init_conv_lstm_2023-08-2719_25_31.579951\\model-00066-0.63990-0.80543-0.91050-0.64000.h5\n",
      "42/42 [==============================] - 612s 15s/step - loss: 0.6399 - categorical_accuracy: 0.8054 - val_loss: 0.9105 - val_categorical_accuracy: 0.6400 - lr: 1.0000e-05\n",
      "Epoch 67/70\n",
      "42/42 [==============================] - ETA: 0s - loss: 0.6455 - categorical_accuracy: 0.8145 \n",
      "Epoch 67: saving model to model_init_conv_lstm_2023-08-2719_25_31.579951\\model-00067-0.64550-0.81448-0.88189-0.65000.h5\n",
      "42/42 [==============================] - 610s 15s/step - loss: 0.6455 - categorical_accuracy: 0.8145 - val_loss: 0.8819 - val_categorical_accuracy: 0.6500 - lr: 1.0000e-05\n",
      "Epoch 68/70\n",
      "42/42 [==============================] - ETA: 0s - loss: 0.6350 - categorical_accuracy: 0.8296 \n",
      "Epoch 68: saving model to model_init_conv_lstm_2023-08-2719_25_31.579951\\model-00068-0.63497-0.82956-0.93014-0.63000.h5\n",
      "42/42 [==============================] - 606s 14s/step - loss: 0.6350 - categorical_accuracy: 0.8296 - val_loss: 0.9301 - val_categorical_accuracy: 0.6300 - lr: 1.0000e-05\n",
      "Epoch 69/70\n",
      "42/42 [==============================] - ETA: 0s - loss: 0.6364 - categorical_accuracy: 0.8431 \n",
      "Epoch 69: saving model to model_init_conv_lstm_2023-08-2719_25_31.579951\\model-00069-0.63645-0.84314-0.87182-0.65000.h5\n",
      "42/42 [==============================] - 606s 14s/step - loss: 0.6364 - categorical_accuracy: 0.8431 - val_loss: 0.8718 - val_categorical_accuracy: 0.6500 - lr: 1.0000e-05\n",
      "Epoch 70/70\n",
      "42/42 [==============================] - ETA: 0s - loss: 0.6387 - categorical_accuracy: 0.8205 \n",
      "Epoch 70: saving model to model_init_conv_lstm_2023-08-2719_25_31.579951\\model-00070-0.63871-0.82051-0.90545-0.65000.h5\n",
      "42/42 [==============================] - 607s 14s/step - loss: 0.6387 - categorical_accuracy: 0.8205 - val_loss: 0.9055 - val_categorical_accuracy: 0.6500 - lr: 1.0000e-05\n"
     ]
    }
   ],
   "source": [
    "history = model.fit(train_generator, steps_per_epoch=steps_per_epoch, epochs=num_epochs, verbose=1, \n",
    "                    callbacks=callbacks_list, validation_data=val_generator, \n",
    "                    validation_steps=validation_steps, class_weight=None, workers=1, initial_epoch=0)"
   ]
  },
  {
   "cell_type": "code",
   "execution_count": 55,
   "metadata": {},
   "outputs": [],
   "source": [
    "import matplotlib.pyplot as plt"
   ]
  },
  {
   "cell_type": "code",
   "execution_count": 56,
   "metadata": {},
   "outputs": [
    {
     "data": {
      "image/png": "[encoded data removed]",
      "text/plain": [
       "<Figure size 1200x400 with 2 Axes>"
      ]
     },
     "metadata": {},
     "output_type": "display_data"
    }
   ],
   "source": [
    "def plot(history):\n",
    "    # Plot training & validation accuracy values\n",
    "    plt.figure(figsize=(12, 4))\n",
    "    \n",
    "    plt.subplot(1, 2, 1)\n",
    "    plt.plot(history.history['categorical_accuracy'])\n",
    "    plt.plot(history.history['val_categorical_accuracy'])\n",
    "    plt.title('Model accuracy')\n",
    "    plt.ylabel('Accuracy')\n",
    "    plt.xlabel('Epoch')\n",
    "    plt.legend(['Train', 'Validation'], loc='upper left')\n",
    "\n",
    "    # Plot training & validation loss values\n",
    "    plt.subplot(1, 2, 2)\n",
    "    plt.plot(history.history['loss'])\n",
    "    plt.plot(history.history['val_loss'])\n",
    "    plt.title('Model loss')\n",
    "    plt.ylabel('Loss')\n",
    "    plt.xlabel('Epoch')\n",
    "    plt.legend(['Train', 'Validation'], loc='upper left')\n",
    "    \n",
    "    plt.tight_layout()\n",
    "    plt.show()\n",
    "\n",
    "plot(history)\n"
   ]
  },
  {
   "cell_type": "code",
   "execution_count": 57,
   "metadata": {},
   "outputs": [
    {
     "name": "stdout",
     "output_type": "stream",
     "text": [
      "dict_keys(['loss', 'categorical_accuracy', 'val_loss', 'val_categorical_accuracy', 'lr'])\n"
     ]
    }
   ],
   "source": [
    "print(history.history.keys())"
   ]
  },
  {
   "cell_type": "code",
   "execution_count": 58,
   "metadata": {},
   "outputs": [],
   "source": [
    "# Extract the training and validation loss from the history object\n",
    "train_loss = history.history['loss']\n",
    "val_loss = history.history['val_loss']\n",
    "\n",
    "# If you also tracked accuracy (or other metrics), you can extract them too:\n",
    "train_accuracy = history.history['categorical_accuracy']\n",
    "val_accuracy = history.history['val_categorical_accuracy']"
   ]
  },
  {
   "cell_type": "code",
   "execution_count": 59,
   "metadata": {},
   "outputs": [
    {
     "name": "stdout",
     "output_type": "stream",
     "text": [
      "7/7 [==============================] - 77s 11s/step - loss: 0.9574 - categorical_accuracy: 0.6300\n",
      "Validation Loss: 0.9574403166770935\n",
      "Validation Accuracy: 0.6299999952316284\n"
     ]
    }
   ],
   "source": [
    "# Using your validation generator\n",
    "val_loss, val_accuracy = model.evaluate(val_generator, steps=validation_steps)\n",
    "print(f'Validation Loss: {val_loss}')\n",
    "print(f'Validation Accuracy: {val_accuracy}')\n"
   ]
  },
  {
   "cell_type": "code",
   "execution_count": 71,
   "metadata": {},
   "outputs": [
    {
     "name": "stderr",
     "output_type": "stream",
     "text": [
      "C:\\Users\\kevin\\AppData\\Roaming\\Python\\Python311\\site-packages\\keras\\src\\engine\\training.py:3000: UserWarning: You are saving your model as an HDF5 file via `model.save()`. This file format is considered legacy. We recommend using instead the native Keras format, e.g. `model.save('my_model.keras')`.\n",
      "  saving_api.save_model(\n"
     ]
    }
   ],
   "source": [
    "# Save the model for later use\n",
    "model.save('Gesture_CNN+RNN.h5')"
   ]
  },
  {
   "cell_type": "code",
   "execution_count": null,
   "metadata": {},
   "outputs": [],
   "source": []
  },
  {
   "cell_type": "code",
   "execution_count": null,
   "metadata": {},
   "outputs": [],
   "source": []
  },
  {
   "cell_type": "code",
   "execution_count": null,
   "metadata": {},
   "outputs": [],
   "source": []
  },
  {
   "cell_type": "code",
   "execution_count": null,
   "metadata": {},
   "outputs": [],
   "source": []
  }
 ],
 "metadata": {
  "kernelspec": {
   "display_name": "Python 3 (ipykernel)",
   "language": "python",
   "name": "python3"
  },
  "language_info": {
   "codemirror_mode": {
    "name": "ipython",
    "version": 3
   },
   "file_extension": ".py",
   "mimetype": "text/x-python",
   "name": "python",
   "nbconvert_exporter": "python",
   "pygments_lexer": "ipython3",
   "version": "3.11.3"
  }
 },
 "nbformat": 4,
 "nbformat_minor": 2
}
