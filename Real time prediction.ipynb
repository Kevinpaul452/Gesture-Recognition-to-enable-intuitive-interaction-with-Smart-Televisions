{
 "cells": [
  {
   "cell_type": "markdown",
   "id": "7321f7e6",
   "metadata": {},
   "source": [
    "# Real-time prediciton\n",
    "\n",
    "A webcam feed that uses OpenCV and Keras to recognise gestures in real-time. Initialization involves loading a pre-trained model titled 'Gesture_CNN.h5' from a specified path. It uses a deque (from Python's collections module) to maintain a rolling window of the last 15 frames captured by the webcam, as the model appears to be based on 15-frame sequences. These 15 frames are processed by the predict_gesture function, which converts them into an appropriate shape and makes predictions using the imported model. The predicted gesture, which may be one of five pre-defined gestures such as 'Swiping Left' or 'Thumbs Up,' is then displayed on the current frame using the putText method of OpenCV. The live feed from the default camera is displayed in the 'Real-time Gesture Prediction' window. The capturing loop continues until the 'q' key is hit, after which the video capture is terminated and any OpenCV windows created are destroyed.\n"
   ]
  },
  {
   "cell_type": "code",
   "execution_count": null,
   "id": "0bed0aa6",
   "metadata": {},
   "outputs": [],
   "source": [
    "import cv2\n",
    "import numpy as np\n",
    "from keras.models import load_model\n",
    "\n",
    "# Load the trained model\n",
    "model = load_model(r'C:\\Users\\kevin\\Desktop\\gesture recog\\models\\Gesture_CNN.h5')\n",
    "\n",
    "# Using a queue to store the last 15 frames\n",
    "from collections import deque\n",
    "frames_queue = deque(maxlen=15)\n",
    "\n",
    "def predict_gesture(frames_queue, model):\n",
    "    # If we don't have 15 frames yet, return None\n",
    "    if len(frames_queue) < 15:\n",
    "        return None\n",
    "\n",
    "    # Convert the queue to a numpy array\n",
    "    frames_array = np.array(frames_queue)\n",
    "\n",
    "    # Expand the dimensions to represent the batch size\n",
    "    frames_array = np.expand_dims(frames_array, axis=0)  # Shape: (1, 15, 90, 90, 3)\n",
    "\n",
    "    # Predict using the model\n",
    "    predictions = model.predict(frames_array)\n",
    "\n",
    "    # Convert predictions to desired output (e.g., gesture name)\n",
    "    gesture_names = ['Swiping Left', 'Swiping Right', 'Stop', 'Thumps Down', 'Thumps Up']\n",
    "    predicted_gesture = gesture_names[np.argmax(predictions)]\n",
    "\n",
    "    return predicted_gesture\n",
    "\n",
    "# Start capturing from the default camera\n",
    "cap = cv2.VideoCapture(0)\n",
    "\n",
    "while True:\n",
    "    ret, frame = cap.read()\n",
    "    if not ret:\n",
    "        break\n",
    "\n",
    "    # Resize and add the frame to the frames queue\n",
    "    frame_resized = cv2.resize(frame, (90, 90))\n",
    "    frames_queue.append(frame_resized)\n",
    "\n",
    "    # Get the gesture prediction for the current frame sequence\n",
    "    gesture = predict_gesture(frames_queue, model)\n",
    "\n",
    "    if gesture:\n",
    "        # Display the prediction on the frame\n",
    "        cv2.putText(frame, gesture, (10, 30), cv2.FONT_HERSHEY_SIMPLEX, 1, (0, 255, 0), 2)\n",
    "\n",
    "    # Show the frame\n",
    "    cv2.imshow('Real-time Gesture Prediction', frame)\n",
    "\n",
    "    # If 'q' key is pressed, exit loop\n",
    "    if cv2.waitKey(1) & 0xFF == ord('q'):\n",
    "        break\n",
    "\n",
    "cap.release()\n",
    "cv2.destroyAllWindows()\n"
   ]
  },
  {
   "cell_type": "code",
   "execution_count": null,
   "id": "c26d8b1f",
   "metadata": {},
   "outputs": [],
   "source": []
  },
  {
   "cell_type": "code",
   "execution_count": null,
   "id": "3411ee10",
   "metadata": {},
   "outputs": [],
   "source": []
  },
  {
   "cell_type": "code",
   "execution_count": null,
   "id": "91e2096c",
   "metadata": {},
   "outputs": [],
   "source": []
  },
  {
   "cell_type": "code",
   "execution_count": null,
   "id": "ca6dee13",
   "metadata": {},
   "outputs": [],
   "source": []
  }
 ],
 "metadata": {
  "kernelspec": {
   "display_name": "Python 3 (ipykernel)",
   "language": "python",
   "name": "python3"
  },
  "language_info": {
   "codemirror_mode": {
    "name": "ipython",
    "version": 3
   },
   "file_extension": ".py",
   "mimetype": "text/x-python",
   "name": "python",
   "nbconvert_exporter": "python",
   "pygments_lexer": "ipython3",
   "version": "3.11.3"
  }
 },
 "nbformat": 4,
 "nbformat_minor": 5
}
